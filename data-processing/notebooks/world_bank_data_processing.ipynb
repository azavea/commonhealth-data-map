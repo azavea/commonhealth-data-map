{
 "cells": [
  {
   "cell_type": "markdown",
   "metadata": {},
   "source": [
    "This notebook processes the sample world bank compound risk assessment data into GeoJSON to be used in a mockup.\n"
   ]
  },
  {
   "cell_type": "code",
   "execution_count": null,
   "metadata": {},
   "outputs": [],
   "source": [
    "from io import StringIO\n",
    "\n",
    "import pandas as pd\n",
    "import geopandas as gpd"
   ]
  },
  {
   "cell_type": "markdown",
   "metadata": {},
   "source": [
    "Sample data exported from a Google Sheets import of the Excel file sent over by L.Jones3@lse.ac.uk"
   ]
  },
  {
   "cell_type": "code",
   "execution_count": null,
   "metadata": {},
   "outputs": [],
   "source": [
    "# Need to remove the first two lines of the export\n",
    "\n",
    "with open('/opt/src/data/world_bank_compound_risk_sample_data.csv') as f:\n",
    "    csv_text = '\\n'.join(f.read().split('\\n')[2:])\n",
    "\n",
    "wb_df = pd.read_csv(StringIO(csv_text))"
   ]
  },
  {
   "cell_type": "code",
   "execution_count": null,
   "metadata": {},
   "outputs": [],
   "source": [
    "wb_df"
   ]
  },
  {
   "cell_type": "markdown",
   "metadata": {},
   "source": [
    "Read in the countries as a GeoPandas DataFrame, and check to see if there's any country names that don't match between the datasets."
   ]
  },
  {
   "cell_type": "code",
   "execution_count": null,
   "metadata": {},
   "outputs": [],
   "source": [
    "countries_gdf = gpd.read_file('/opt/src/data/countries.geojson')"
   ]
  },
  {
   "cell_type": "code",
   "execution_count": null,
   "metadata": {},
   "outputs": [],
   "source": [
    "c_names = set(countries_gdf['ADMIN'].values)\n",
    "wb_names = set(wb_df['COUNTRY'].values)\n",
    "\n",
    "wb_names - c_names\n"
   ]
  },
  {
   "cell_type": "markdown",
   "metadata": {},
   "source": [
    "Try to find any country names that don't match. Rename to force match, or choose to skip.\n",
    "\n",
    "One method of checking is to load the countries in geojson.io and find the regions refered to above."
   ]
  },
  {
   "cell_type": "code",
   "execution_count": null,
   "metadata": {},
   "outputs": [],
   "source": [
    "countries_renamed_gdf = countries_gdf.replace({\n",
    "    'The Bahamas': 'Bahamas',\n",
    "    'Brunei': 'Brunei Darussalam',\n",
    "    'Republic of the Congo': 'Congo',\n",
    "    'Democratic Republic of the Congo': 'Congo DR',    \n",
    "    'Czechia': 'Czech Republic',\n",
    "    \"Ivory Coast\": \"Côte d'Ivoire\",     \n",
    "    'Swaziland': 'Eswatini',\n",
    "    'North Korea': 'Korea DPR',\n",
    "    'South Korea': 'Korea Republic of',\n",
    "    'Laos': 'Lao PDR',\n",
    "    'Federated States of Micronesia': 'Micronesia',\n",
    "    'Moldova': 'Moldova Republic of',\n",
    "    'Macedonia': 'North Macedonia',\n",
    "    'Russia': 'Russian Federation',\n",
    "    'Republic of Serbia': 'Serbia',\n",
    "    'United Republic of Tanzania': 'Tanzania',\n",
    "    'East Timor': 'Timor-Leste',\n",
    "    'Vietnam': 'Viet Nam',\n",
    "    })"
   ]
  },
  {
   "cell_type": "markdown",
   "metadata": {},
   "source": [
    "Recheck to makeasure we have everything accounted for."
   ]
  },
  {
   "cell_type": "code",
   "execution_count": null,
   "metadata": {},
   "outputs": [],
   "source": [
    "set(wb_df['COUNTRY'].values) - set(countries_renamed_gdf['ADMIN'].values)"
   ]
  },
  {
   "cell_type": "markdown",
   "metadata": {},
   "source": [
    "Merge the geometry and save off the new GeoJSON."
   ]
  },
  {
   "cell_type": "code",
   "execution_count": null,
   "metadata": {},
   "outputs": [],
   "source": [
    "merged_df = wb_df.merge(countries_renamed_gdf[['ADMIN', 'geometry']], \n",
    "                        left_on='COUNTRY', \n",
    "                        right_on='ADMIN')\n",
    "merged_gdf = gpd.GeoDataFrame(merged_df, crs='epsg:4326')\n",
    "\n",
    "merged_gdf.to_file('/opt/src/data/output/wb-compound-risk-sample.geojson', \n",
    "                   encoding='utf-8',\n",
    "                   driver='GeoJSON')"
   ]
  },
  {
   "cell_type": "code",
   "execution_count": null,
   "metadata": {},
   "outputs": [],
   "source": []
  }
 ],
 "metadata": {
  "kernelspec": {
   "display_name": "Python 3",
   "language": "python",
   "name": "python3"
  },
  "language_info": {
   "codemirror_mode": {
    "name": "ipython",
    "version": 3
   },
   "file_extension": ".py",
   "mimetype": "text/x-python",
   "name": "python",
   "nbconvert_exporter": "python",
   "pygments_lexer": "ipython3",
   "version": "3.8.2"
  }
 },
 "nbformat": 4,
 "nbformat_minor": 4
}
