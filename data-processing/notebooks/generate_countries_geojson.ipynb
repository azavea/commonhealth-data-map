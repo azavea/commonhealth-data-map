{
 "cells": [
  {
   "cell_type": "markdown",
   "metadata": {},
   "source": [
    "## Generate Countries GeoJSON\n",
    "\n",
    "This simply manipulates the external countries GeoJSON into one with an ID that is the alpha-3 code for the country. This will allow us to bake vector tiles that can be updated with \n",
    "`setFeatureState`."
   ]
  },
  {
   "cell_type": "code",
   "execution_count": null,
   "metadata": {},
   "outputs": [],
   "source": [
    "import json\n",
    "\n",
    "import geopandas as gpd"
   ]
  },
  {
   "cell_type": "code",
   "execution_count": null,
   "metadata": {},
   "outputs": [],
   "source": [
    "countries_gdf = gpd.read_file('/opt/src/data/countries.geojson')"
   ]
  },
  {
   "cell_type": "code",
   "execution_count": null,
   "metadata": {},
   "outputs": [],
   "source": [
    "countries_gdf = countries_gdf.sort_values(by=['ADM0_A3'])"
   ]
  },
  {
   "cell_type": "code",
   "execution_count": null,
   "metadata": {},
   "outputs": [],
   "source": [
    "with open('/opt/src/data/published/countries.geojson', 'w') as f:\n",
    "    feature_collection = json.loads(countries_gdf.to_json())\n",
    "    for feature in feature_collection['features']:\n",
    "        # Make sure IDs are ints.\n",
    "        feature['id'] = int(feature['id'])\n",
    "        feature['properties']['id'] = feature['id']\n",
    "    f.write(json.dumps(feature_collection))"
   ]
  },
  {
   "cell_type": "code",
   "execution_count": null,
   "metadata": {},
   "outputs": [],
   "source": [
    "feature"
   ]
  },
  {
   "cell_type": "code",
   "execution_count": null,
   "metadata": {},
   "outputs": [],
   "source": []
  }
 ],
 "metadata": {
  "kernelspec": {
   "display_name": "Python 3",
   "language": "python",
   "name": "python3"
  },
  "language_info": {
   "codemirror_mode": {
    "name": "ipython",
    "version": 3
   },
   "file_extension": ".py",
   "mimetype": "text/x-python",
   "name": "python",
   "nbconvert_exporter": "python",
   "pygments_lexer": "ipython3",
   "version": "3.8.2"
  }
 },
 "nbformat": 4,
 "nbformat_minor": 4
}
