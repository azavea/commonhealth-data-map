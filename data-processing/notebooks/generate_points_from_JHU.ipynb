{
 "cells": [
  {
   "cell_type": "markdown",
   "metadata": {},
   "source": [
    "## Generate points for the cases tab\n",
    "\n",
    "This notebook generates the points GeoJSON for the points on the Cases tab of the dashboard. It pulls the point data from JHU confirmed cases. It also produces some intermediate outputs, such as mappings to the feature IDs, for use in the case data processing notebook that runs as part of the data update pipeline."
   ]
  },
  {
   "cell_type": "code",
   "execution_count": null,
   "metadata": {},
   "outputs": [],
   "source": [
    "import json\n",
    "import io\n",
    "import os\n",
    "from datetime import datetime\n",
    "\n",
    "import requests\n",
    "import numpy as np\n",
    "import pandas as pd\n",
    "import geopandas as gpd\n",
    "from shapely.geometry import Point, shape, mapping\n",
    "from slugify import slugify"
   ]
  },
  {
   "cell_type": "code",
   "execution_count": null,
   "metadata": {},
   "outputs": [],
   "source": [
    "data_dir = '/opt/src/data'"
   ]
  },
  {
   "cell_type": "code",
   "execution_count": null,
   "metadata": {},
   "outputs": [],
   "source": [
    "def get_code(admin0, admin1=None, admin2=None):\n",
    "    slug_txt = admin0\n",
    "    if admin1 is not None:\n",
    "        slug_txt = \"{} {}\".format(admin1, slug_txt)\n",
    "    if admin2 is not None:\n",
    "        slug_txt = \"{} {}\".format(admin2, slug_txt)\n",
    "    return slugify(slug_txt)\n",
    "\n",
    "def fetch_df(url):\n",
    "    \"\"\"Fetches a Pandas DataFrame from a remote source\"\"\"\n",
    "    r = requests.get(url)\n",
    "    return pd.read_csv(io.BytesIO(r.content))"
   ]
  },
  {
   "cell_type": "code",
   "execution_count": null,
   "metadata": {},
   "outputs": [],
   "source": [
    "cases_df = fetch_df('https://github.com/CSSEGISandData/COVID-19/raw/master/'\n",
    "                    'csse_covid_19_data/csse_covid_19_time_series/time_series_covid19_confirmed_global.csv')"
   ]
  },
  {
   "cell_type": "code",
   "execution_count": null,
   "metadata": {},
   "outputs": [],
   "source": [
    "us_territories = [\n",
    "    'American Samoa',\n",
    "    'Guam',\n",
    "    'Northern Mariana Islands',\n",
    "    'Puerto Rico',\n",
    "    'Virgin Islands'\n",
    "]\n",
    "\n",
    "def filter_us(df):\n",
    "   # Filter out counties that have 0 latest data.\n",
    "    filtered_df = df[df.iloc[:,-1] != 0]\n",
    "    filtered_df = filtered_df[\n",
    "        (filtered_df['Province_State'].isin(us_territories)) |\n",
    "        (\n",
    "            (~filtered_df['Lat'].isnull()) &\n",
    "            (filtered_df['Lat'] != 0.0) &\n",
    "            (~filtered_df['FIPS'].isnull())\n",
    "        )\n",
    "    ]\n",
    "    \n",
    "    return filtered_df\n",
    "\n",
    "us_cases_df = fetch_df('https://github.com/CSSEGISandData/COVID-19/raw/master/'\n",
    "                    'csse_covid_19_data/csse_covid_19_time_series/time_series_covid19_confirmed_US.csv')\n",
    "us_cases_df = filter_us(us_cases_df)"
   ]
  },
  {
   "cell_type": "code",
   "execution_count": null,
   "metadata": {},
   "outputs": [],
   "source": [
    "countries_gdf = gpd.read_file(os.path.join(data_dir, 'published/countries.geojson'))"
   ]
  },
  {
   "cell_type": "code",
   "execution_count": null,
   "metadata": {},
   "outputs": [],
   "source": [
    "country_data = {}\n",
    "case_features = []\n",
    "codes_to_id = {}\n",
    "codes_to_alpha2 = {}\n",
    "\n",
    "current_id = 0\n",
    "\n",
    "def add_country_data(country):\n",
    "    bounds = country['geometry'].bounds\n",
    "    bounds = [[bounds[0], bounds[1]], [bounds[2], bounds[3]]]\n",
    "    \n",
    "    if country['ADM0_A3'] is None or type(country['ADM0_A3']) is float:\n",
    "        raise Exception('ADM0_A3 is None or nan for {}'.format(country['ADMIN']))\n",
    "    \n",
    "    if country['ISO_A2'] is None or type(country['ISO_A2']) is float:\n",
    "        raise Exception('ISO_A2 is None or nan for {}'.format(country['ADMIN']))\n",
    "\n",
    "    country_data[code] = {\n",
    "        'name':  country['ADMIN'],\n",
    "        'alpha3': country['ADM0_A3'],\n",
    "        'alpha2': country['ISO_A2'],\n",
    "        'bounds': bounds\n",
    "    }\n",
    "\n",
    "for _, row in cases_df.sort_values(by=['Country/Region', 'Province/State']).iterrows():\n",
    "    name = row['Country/Region']\n",
    "    region_name = None if type(row['Province/State']) is float else row['Province/State']\n",
    "    if name == 'Congo (Brazzaville)':\n",
    "        # Fix the lat/lng of Congo, which is the same location \n",
    "        # the Democratic Republic of Congo in the JHU data.\n",
    "        lat, lon = -1.402385, 15.405892\n",
    "    else:\n",
    "        lat, lon = row['Lat'], row['Long']\n",
    "\n",
    "    pt = Point(lon, lat)\n",
    "\n",
    "    if (lon, lat) == (0, 0):\n",
    "        print('Skipping {}'.format(get_code(name, region_name)))\n",
    "    else:\n",
    "        matching_countries = countries_gdf[countries_gdf['geometry'].contains(pt)]\n",
    "        if len(matching_countries) < 1:\n",
    "            if name == 'Saint Vincent and the Grenadines':\n",
    "                matching_countries = countries_gdf[\n",
    "                    countries_gdf['NAME'] == 'St. Vin. and Gren.'\n",
    "                ]\n",
    "            else:\n",
    "                matching_countries = countries_gdf[\n",
    "                    countries_gdf['NAME'] == name\n",
    "                ]\n",
    "\n",
    "        if len(matching_countries) < 1:\n",
    "            print(row['Country/Region'])\n",
    "            print('  Not found: {}'.format(pt))\n",
    "        else:\n",
    "            country = matching_countries.iloc[0]\n",
    "            code = get_code(name, region_name)\n",
    "\n",
    "            point_id = current_id\n",
    "            current_id += 1\n",
    "\n",
    "            if region_name is not None:\n",
    "                display_name = '{}, {}'.format(region_name, country['ADMIN'])\n",
    "            else:\n",
    "                display_name = country['ADMIN']\n",
    "\n",
    "            case_features.append({\n",
    "                'id': point_id,\n",
    "                'type': 'Feature',\n",
    "                'geometry': mapping(pt),\n",
    "                'properties': {\n",
    "                    'displayName': display_name,\n",
    "                    'code': code,\n",
    "                    'id': point_id\n",
    "                }\n",
    "            })\n",
    "\n",
    "            codes_to_id[code] = point_id\n",
    "            codes_to_alpha2[code] = country['ISO_A2']\n",
    "\n",
    "            # Process countries\n",
    "            if region_name is None:\n",
    "                add_country_data(country)\n",
    "\n",
    "SKIP_COUNTIES = True                \n",
    "                \n",
    "for _, row in us_cases_df.sort_values(by=['Country_Region', 'Province_State', 'Admin2']).iterrows():\n",
    "    region_name = row['Province_State']\n",
    "    county_name = None if type(row['Admin2']) is float else row['Admin2'] \n",
    "\n",
    "    if county_name is not None and (\n",
    "        county_name.startswith('Out of') or\n",
    "        county_name == 'Unassigned'):\n",
    "        print('Skipping {}, {}'.format(county_name, region_name))\n",
    "        continue\n",
    "\n",
    "    lat, lon = row['Lat'], row['Long_']\n",
    "\n",
    "    pt = Point(lon, lat)\n",
    "\n",
    "    if (lon, lat) == (0, 0):\n",
    "        print('Skipping {}'.format(get_code('US', region_name, county_name)))\n",
    "    else:\n",
    "        code = get_code('US', admin1=region_name, admin2=county_name)\n",
    "\n",
    "        point_id = current_id\n",
    "        current_id += 1\n",
    "\n",
    "        display_name = '{}, US'\n",
    "        if county_name is not None:\n",
    "            display_name = '{}, {}, US'.format(county_name, region_name)\n",
    "        else:\n",
    "            display_name = '{}, US'.format(region_name)\n",
    "\n",
    "        if SKIP_COUNTIES and county_name is not None:\n",
    "            pass\n",
    "        else:\n",
    "            case_features.append({\n",
    "                'id': point_id,\n",
    "                'type': 'Feature',\n",
    "                'geometry': mapping(pt),\n",
    "                'properties': {\n",
    "                    'displayName': display_name,\n",
    "                    'code': code,\n",
    "                    'id': point_id\n",
    "                }\n",
    "            })\n",
    "\n",
    "        codes_to_id[code] = point_id\n",
    "        codes_to_alpha2[code] = 'US'"
   ]
  },
  {
   "cell_type": "markdown",
   "metadata": {},
   "source": [
    "Handle adding country information for countries that only have regions in the JHU data."
   ]
  },
  {
   "cell_type": "code",
   "execution_count": null,
   "metadata": {},
   "outputs": [],
   "source": [
    "for _, row in countries_gdf[countries_gdf['ADMIN'].isin(['Australia', 'Canada', 'China'])].iterrows():\n",
    "    add_country_data(row)\n",
    "    codes_to_alpha2[get_code(row['ADMIN'])] = row['ISO_A2']\n",
    "    "
   ]
  },
  {
   "cell_type": "code",
   "execution_count": null,
   "metadata": {},
   "outputs": [],
   "source": [
    "with open(os.path.join(data_dir, 'published/case-points.geojson'), 'w') as f:\n",
    "    f.write(json.dumps({\n",
    "    'type': 'FeatureCollection',\n",
    "    'features': case_features\n",
    "}, sort_keys=True))"
   ]
  },
  {
   "cell_type": "code",
   "execution_count": null,
   "metadata": {},
   "outputs": [],
   "source": [
    "with open(os.path.join(data_dir, 'case-codes-to-ids-intermidiate.json'), 'w') as f:\n",
    "    f.write(json.dumps(codes_to_id, sort_keys=True))"
   ]
  },
  {
   "cell_type": "code",
   "execution_count": null,
   "metadata": {},
   "outputs": [],
   "source": [
    "with open(os.path.join(data_dir, 'case-country-config.json'), 'w') as f:\n",
    "    f.write(json.dumps(country_data, sort_keys=True))"
   ]
  },
  {
   "cell_type": "code",
   "execution_count": null,
   "metadata": {},
   "outputs": [],
   "source": [
    "with open(os.path.join(data_dir, 'case-codes-to-alpha2.json'), 'w') as f:\n",
    "    f.write(json.dumps(codes_to_alpha2, sort_keys=True))"
   ]
  },
  {
   "cell_type": "code",
   "execution_count": null,
   "metadata": {},
   "outputs": [],
   "source": []
  }
 ],
 "metadata": {
  "kernelspec": {
   "display_name": "Python 3",
   "language": "python",
   "name": "python3"
  },
  "language_info": {
   "codemirror_mode": {
    "name": "ipython",
    "version": 3
   },
   "file_extension": ".py",
   "mimetype": "text/x-python",
   "name": "python",
   "nbconvert_exporter": "python",
   "pygments_lexer": "ipython3",
   "version": "3.8.2"
  }
 },
 "nbformat": 4,
 "nbformat_minor": 4
}
