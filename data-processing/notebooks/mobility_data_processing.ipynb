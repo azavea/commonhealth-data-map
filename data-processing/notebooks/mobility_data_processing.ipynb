{
 "cells": [
  {
   "cell_type": "markdown",
   "metadata": {},
   "source": [
    "## Mobility data\n",
    "\n",
    "This notebook processes mobility data. Currently we're focusing on reading Google's mobility report, and only doing so at a national level.\n",
    "\n",
    "#### Note\n",
    "\n",
    "This uses the output of the `generate_countries_geojson` notebook."
   ]
  },
  {
   "cell_type": "markdown",
   "metadata": {},
   "source": [
    "### Papermill"
   ]
  },
  {
   "cell_type": "code",
   "execution_count": null,
   "metadata": {
    "tags": [
     "parameters"
    ]
   },
   "outputs": [],
   "source": [
    "# parameters\n",
    "data_dir = '/opt/src/data'"
   ]
  },
  {
   "cell_type": "markdown",
   "metadata": {},
   "source": [
    "For papermill execution, the pameters are:\n",
    "\n",
    "- data_dir: That data directory to read data from and publish data to."
   ]
  },
  {
   "cell_type": "code",
   "execution_count": null,
   "metadata": {},
   "outputs": [],
   "source": [
    "import io\n",
    "import os\n",
    "import json\n",
    "from collections import defaultdict\n",
    "\n",
    "import numpy as np\n",
    "import pandas as pd\n",
    "import geopandas as gpd\n",
    "import requests\n",
    "from shapely.geometry import mapping\n",
    "from shapely.algorithms.polylabel import polylabel\n",
    "import pycountry\n",
    "from jenkspy import jenks_breaks"
   ]
  },
  {
   "cell_type": "markdown",
   "metadata": {},
   "source": [
    "### Compute the mobility data"
   ]
  },
  {
   "cell_type": "code",
   "execution_count": null,
   "metadata": {},
   "outputs": [],
   "source": [
    "GOOGLE_MOBILITY_URL = 'https://www.gstatic.com/covid19/mobility/Global_Mobility_Report.csv'\n",
    "\n",
    "google_df = pd.read_csv(GOOGLE_MOBILITY_URL)"
   ]
  },
  {
   "cell_type": "code",
   "execution_count": null,
   "metadata": {},
   "outputs": [],
   "source": [
    "google_df"
   ]
  },
  {
   "cell_type": "markdown",
   "metadata": {},
   "source": [
    "#### Notes about the data\n",
    "\n",
    "country_region_code is the ISO 3166-1 alpha-2 for the country. sub_region_1 is the region; if this is null, it represents the country totals. sub_region_2 is only used for US counties.\n",
    "\n",
    "For starters we're only processing country totals."
   ]
  },
  {
   "cell_type": "code",
   "execution_count": null,
   "metadata": {},
   "outputs": [],
   "source": [
    "google_country_df = google_df[google_df['sub_region_1'].isnull()]"
   ]
  },
  {
   "cell_type": "markdown",
   "metadata": {},
   "source": [
    "Construct the dataset, renaming the property names to be a little more terse."
   ]
  },
  {
   "cell_type": "code",
   "execution_count": null,
   "metadata": {},
   "outputs": [],
   "source": [
    "value_cols = {\n",
    "    'retail_and_recreation_percent_change_from_baseline': 'retail_and_recreation', \n",
    "    'grocery_and_pharmacy_percent_change_from_baseline': 'grocery_and_pharmacy',\n",
    "    'parks_percent_change_from_baseline': 'parks',\n",
    "    'transit_stations_percent_change_from_baseline': 'transit_stations', \n",
    "    'workplaces_percent_change_from_baseline': 'workplaces', \n",
    "    'residential_percent_change_from_baseline': 'residential'\n",
    "}"
   ]
  },
  {
   "cell_type": "code",
   "execution_count": null,
   "metadata": {},
   "outputs": [],
   "source": [
    "countries_gdf = gpd.read_file(os.path.join(data_dir, 'published/countries.geojson'))"
   ]
  },
  {
   "cell_type": "code",
   "execution_count": null,
   "metadata": {},
   "outputs": [],
   "source": [
    "countries_gdf[countries_gdf['NAME'] == 'France']"
   ]
  },
  {
   "cell_type": "markdown",
   "metadata": {},
   "source": [
    "Mapbox needs IDs to be integers for features in order to use setFeatureState properly. We'll match the country ISO2 code to the country ID in the GeoJSON and use it as the key into the country data."
   ]
  },
  {
   "cell_type": "code",
   "execution_count": null,
   "metadata": {},
   "outputs": [],
   "source": [
    "alpha3_to_id = {}\n",
    "for _, row in countries_gdf.iterrows():\n",
    "    alpha3_to_id[row['ADM0_A3']] = row['id']\n"
   ]
  },
  {
   "cell_type": "markdown",
   "metadata": {},
   "source": [
    "Gather mobility data and print if there's any issues finding countries.\n",
    "\n",
    "Réunion is not in the country geojson and is part of France; skipping for now."
   ]
  },
  {
   "cell_type": "code",
   "execution_count": null,
   "metadata": {},
   "outputs": [],
   "source": [
    "mobility_data = {}\n",
    "country_codes = set([])\n",
    "issue_found = set([])\n",
    "dates = set([])\n",
    "for _, row in google_country_df.iterrows():\n",
    "    alpha_3 = None\n",
    "    # I think pandas is reading the alpha_2 'NA' incorrectly...\n",
    "    if row['country_region'] == 'Namibia':        \n",
    "        alpha_2 = row['country_region_code']\n",
    "        alpha_3 = 'NAM'\n",
    "    else:\n",
    "        alpha_2 = row['country_region_code']\n",
    "        country = pycountry.countries.get(alpha_2=alpha_2)\n",
    "        if country is None:\n",
    "            print('CANNOT FIND {}'.format(row['country_region']))\n",
    "        alpha_3 = country.alpha_3\n",
    "      \n",
    "    if alpha_3 is not None and alpha_3 in alpha3_to_id:\n",
    "        feature_id = alpha3_to_id[alpha_3]\n",
    "        country_codes.add(alpha_3)\n",
    "        date = row['date']\n",
    "        dates.add(date)\n",
    "        if not feature_id in mobility_data:\n",
    "            mobility_data[feature_id] = {}\n",
    "        mobility_data[feature_id]['code'] = alpha_3\n",
    "        for col, prop in value_cols.items():\n",
    "            if not prop in mobility_data[feature_id]:\n",
    "                mobility_data[feature_id][prop] = {}\n",
    "            v = row[col]\n",
    "            if np.isnan(v):\n",
    "                v = None\n",
    "            mobility_data[feature_id][prop][date] = v\n",
    "    else:\n",
    "        if not row['country_region'] in issue_found:\n",
    "            print('Problem with {} ({})'.format(row['country_region'], alpha_3))\n",
    "            issue_found.add(row['country_region'])\n"
   ]
  },
  {
   "cell_type": "markdown",
   "metadata": {},
   "source": [
    "Special consideration for EAC: do a per-capita average of the EAC regions to develop regional scores, using the alpha3 code 'EAC'"
   ]
  },
  {
   "cell_type": "code",
   "execution_count": null,
   "metadata": {},
   "outputs": [],
   "source": [
    "eac_id = max(alpha3_to_id.values()) + 1\n",
    "alpha3_to_id['EAC'] = eac_id\n",
    "\n",
    "eac_country_codes = [\n",
    "    'BDI', # Burundi\n",
    "    'SSD', # South Sudan\n",
    "    'RWA', # Rawanda\n",
    "    'TZA', # Tanzania\n",
    "    'UGA', # Uganda\n",
    "    'KEN' # Kenya\n",
    "]\n",
    "\n",
    "eac_populations = {\n",
    "    'BDI': 11745876, # Source: 2019 Estimate https://en.wikipedia.org/wiki/Burundi\n",
    "    'SSD': 10975927, # Source: 2019 Estimate https://en.wikipedia.org/wiki/South_Sudan    \n",
    "    'RWA': 12374397, # Source: 2019 Estimate https://en.wikipedia.org/wiki/Rwanda \n",
    "    'TZA': 56313438, # Source: 2018 Estimate https://en.wikipedia.org/wiki/Tanzania \n",
    "    'UGA': 42729036, # Source: 2019 Estimate https://en.wikipedia.org/wiki/Uganda \n",
    "    'KEN': 47564296 # Source: 2019 Census https://en.wikipedia.org/wiki/Kenya\n",
    "}\n",
    "\n",
    "eac_mobility_data_list = defaultdict(list)\n",
    "for md in mobility_data.values():\n",
    "    if md['code'] in eac_country_codes:\n",
    "        for prop in value_cols.values():            \n",
    "            eac_mobility_data_list[prop].append((md[prop], md['code']))\n",
    "\n",
    "eac_mobility_data = {}\n",
    "for prop, values in eac_mobility_data_list.items():\n",
    "    eac_mobility_data[prop] = {}\n",
    "    for date in dates:\n",
    "        v = 0\n",
    "        i = 0.0\n",
    "        for (c_values, code) in values:   \n",
    "            if date in c_values:\n",
    "                c_v = c_values[date]\n",
    "                pop = eac_populations[code]\n",
    "                v += (c_v * pop)\n",
    "                i += pop\n",
    "        if i > 1:\n",
    "            eac_mobility_data[prop][date] = int(v / i)\n",
    "\n",
    "eac_mobility_data"
   ]
  },
  {
   "cell_type": "code",
   "execution_count": null,
   "metadata": {},
   "outputs": [],
   "source": [
    "mobility_data[eac_id] = eac_mobility_data\n",
    "mobility_data[eac_id]['code'] = 'EAC'\n",
    "alpha3_to_id['EAC'] = eac_id"
   ]
  },
  {
   "cell_type": "markdown",
   "metadata": {},
   "source": [
    "Write out the mobility data."
   ]
  },
  {
   "cell_type": "code",
   "execution_count": null,
   "metadata": {},
   "outputs": [],
   "source": [
    "with open(os.path.join(data_dir, 'published/google_mobility_data.json'), 'w') as f:\n",
    "    f.write(json.dumps(mobility_data, sort_keys=True))"
   ]
  },
  {
   "cell_type": "code",
   "execution_count": null,
   "metadata": {},
   "outputs": [],
   "source": [
    "with open(os.path.join(data_dir, 'published/country_alpha_3_to_id.json'), 'w') as f:\n",
    "    f.write(json.dumps(alpha3_to_id, sort_keys=True))"
   ]
  },
  {
   "cell_type": "code",
   "execution_count": null,
   "metadata": {},
   "outputs": [],
   "source": [
    "mobility_data[7]"
   ]
  },
  {
   "cell_type": "markdown",
   "metadata": {},
   "source": [
    "### Compute the breaks"
   ]
  },
  {
   "cell_type": "code",
   "execution_count": null,
   "metadata": {},
   "outputs": [],
   "source": [
    "def compute_breaks(mb_data, per_capita_base=None):\n",
    "    result = {}\n",
    "    # Tracking positive and negative values to compute separate breakpoints\n",
    "    prop_values = defaultdict(lambda: {'neg': [0], 'pos': [0] })\n",
    "    for region in mb_data:\n",
    "        for prop in value_cols.values():\n",
    "            for date in mb_data[region][prop]:\n",
    "                v = mb_data[region][prop][date]\n",
    "                if v is not None and not np.isnan(v):\n",
    "                    if v < 0:\n",
    "                        prop_values[prop]['neg'].append(v)\n",
    "                    else:\n",
    "                        prop_values[prop]['pos'].append(v)\n",
    "            \n",
    "    for prop in prop_values:\n",
    "        neg_breaks = jenks_breaks(prop_values[prop]['neg'], nb_class=4)\n",
    "        pos_breaks = jenks_breaks(prop_values[prop]['pos'], nb_class=4)\n",
    "        result[prop] = neg_breaks + pos_breaks[1:]\n",
    "\n",
    "    return result"
   ]
  },
  {
   "cell_type": "code",
   "execution_count": null,
   "metadata": {},
   "outputs": [],
   "source": [
    "country_breaks = compute_breaks(mobility_data)\n",
    "country_breaks"
   ]
  },
  {
   "cell_type": "markdown",
   "metadata": {},
   "source": [
    "### Generate configuration\n",
    "\n",
    "This configuration is used in the Mobility tab.\n",
    "\n",
    "Currently light on config, but set up to handle multiple aggregation levels and other configuration."
   ]
  },
  {
   "cell_type": "code",
   "execution_count": null,
   "metadata": {},
   "outputs": [],
   "source": [
    "config = {\n",
    "    'dates': sorted(dates),\n",
    "    'aggregations': {\n",
    "        'country': {\n",
    "            'breaks': country_breaks\n",
    "        }\n",
    "    }    \n",
    "}"
   ]
  },
  {
   "cell_type": "code",
   "execution_count": null,
   "metadata": {},
   "outputs": [],
   "source": [
    "with open(os.path.join(data_dir, 'published/mobility-config.json'), 'w') as f:\n",
    "    f.write(json.dumps(config, indent=4, sort_keys=True))"
   ]
  },
  {
   "cell_type": "code",
   "execution_count": null,
   "metadata": {},
   "outputs": [],
   "source": []
  }
 ],
 "metadata": {
  "kernelspec": {
   "display_name": "Python 3",
   "language": "python",
   "name": "python3"
  },
  "language_info": {
   "codemirror_mode": {
    "name": "ipython",
    "version": 3
   },
   "file_extension": ".py",
   "mimetype": "text/x-python",
   "name": "python",
   "nbconvert_exporter": "python",
   "pygments_lexer": "ipython3",
   "version": "3.8.2"
  }
 },
 "nbformat": 4,
 "nbformat_minor": 4
}
